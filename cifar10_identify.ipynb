{
 "cells": [
  {
   "cell_type": "code",
   "execution_count": 3,
   "metadata": {},
   "outputs": [
    {
     "name": "stdout",
     "output_type": "stream",
     "text": [
      "xtrain shape is: (50000, 32, 32, 3)\n",
      "ytrain shape is:(50000, 1)\n",
      "xtest shape is； (10000, 32, 32, 3)\n",
      "y test shape is: (10000, 1)\n"
     ]
    }
   ],
   "source": [
    "from keras.datasets import cifar10\n",
    "(train_images,train_labels),(test_images,test_labels)=cifar10.load_data()\n",
    "print('train image shape is: '+str(train_images.shape))\n",
    "print('train label shape is:'+str(train_labels.shape))\n",
    "print('test images shape is:',str(test_images.shape))\n",
    "print('test label shape is:',str(test_labels.shape))"
   ]
  },
  {
   "cell_type": "code",
   "execution_count": 4,
   "metadata": {},
   "outputs": [
    {
     "name": "stdout",
     "output_type": "stream",
     "text": [
      "[[6]\n",
      " [9]\n",
      " [9]\n",
      " ...\n",
      " [9]\n",
      " [1]\n",
      " [1]]\n"
     ]
    }
   ],
   "source": [
    "print(y_train)"
   ]
  },
  {
   "cell_type": "code",
   "execution_count": 5,
   "metadata": {},
   "outputs": [
    {
     "name": "stdout",
     "output_type": "stream",
     "text": [
      "[[3]\n",
      " [8]\n",
      " [8]\n",
      " ...\n",
      " [5]\n",
      " [1]\n",
      " [7]]\n"
     ]
    }
   ],
   "source": [
    "print(y_test)"
   ]
  },
  {
   "cell_type": "code",
   "execution_count": 5,
   "metadata": {},
   "outputs": [
    {
     "name": "stdout",
     "output_type": "stream",
     "text": [
      "Train on 33500 samples, validate on 16500 samples\n",
      "Epoch 1/20\n",
      "33500/33500 [==============================] - 33s 973us/step - loss: 1.8704 - acc: 0.3192 - val_loss: 1.7949 - val_acc: 0.3478\n",
      "Epoch 2/20\n",
      "33500/33500 [==============================] - 34s 1ms/step - loss: 1.5049 - acc: 0.4603 - val_loss: 1.5077 - val_acc: 0.4655\n",
      "Epoch 3/20\n",
      "33500/33500 [==============================] - 34s 1ms/step - loss: 1.3343 - acc: 0.5270 - val_loss: 1.4243 - val_acc: 0.4922\n",
      "Epoch 4/20\n",
      "33500/33500 [==============================] - 34s 1ms/step - loss: 1.2089 - acc: 0.5732 - val_loss: 1.1993 - val_acc: 0.5813\n",
      "Epoch 5/20\n",
      "33500/33500 [==============================] - 33s 997us/step - loss: 1.1181 - acc: 0.6075 - val_loss: 1.1221 - val_acc: 0.6052\n",
      "Epoch 6/20\n",
      "33500/33500 [==============================] - 35s 1ms/step - loss: 1.0288 - acc: 0.6378 - val_loss: 1.1846 - val_acc: 0.5878\n",
      "Epoch 7/20\n",
      "33500/33500 [==============================] - 35s 1ms/step - loss: 0.9624 - acc: 0.6627 - val_loss: 1.0258 - val_acc: 0.6458\n",
      "Epoch 8/20\n",
      "33500/33500 [==============================] - 35s 1ms/step - loss: 0.8986 - acc: 0.6877 - val_loss: 1.0136 - val_acc: 0.6483\n",
      "Epoch 9/20\n",
      "33500/33500 [==============================] - 35s 1ms/step - loss: 0.8512 - acc: 0.7031 - val_loss: 1.0070 - val_acc: 0.6512\n",
      "Epoch 10/20\n",
      "33500/33500 [==============================] - 36s 1ms/step - loss: 0.7991 - acc: 0.7236 - val_loss: 0.9500 - val_acc: 0.6698\n",
      "Epoch 11/20\n",
      "33500/33500 [==============================] - 34s 1ms/step - loss: 0.7527 - acc: 0.7335 - val_loss: 1.0052 - val_acc: 0.6601\n",
      "Epoch 12/20\n",
      "33500/33500 [==============================] - 34s 1ms/step - loss: 0.7121 - acc: 0.7515 - val_loss: 0.8843 - val_acc: 0.6997\n",
      "Epoch 13/20\n",
      "33500/33500 [==============================] - 35s 1ms/step - loss: 0.6693 - acc: 0.7650 - val_loss: 0.8738 - val_acc: 0.7041\n",
      "Epoch 14/20\n",
      "33500/33500 [==============================] - 34s 1ms/step - loss: 0.6409 - acc: 0.7749 - val_loss: 0.9517 - val_acc: 0.6865\n",
      "Epoch 15/20\n",
      "33500/33500 [==============================] - 34s 1ms/step - loss: 0.6007 - acc: 0.7892 - val_loss: 0.9898 - val_acc: 0.6790\n",
      "Epoch 16/20\n",
      "33500/33500 [==============================] - 34s 1ms/step - loss: 0.5661 - acc: 0.8030 - val_loss: 0.9018 - val_acc: 0.7042\n",
      "Epoch 17/20\n",
      "33500/33500 [==============================] - 34s 1ms/step - loss: 0.5304 - acc: 0.8142 - val_loss: 0.9706 - val_acc: 0.6908\n",
      "Epoch 18/20\n",
      "33500/33500 [==============================] - 34s 1ms/step - loss: 0.4997 - acc: 0.8238 - val_loss: 0.8992 - val_acc: 0.7165\n",
      "Epoch 19/20\n",
      "33500/33500 [==============================] - 33s 998us/step - loss: 0.4779 - acc: 0.8292 - val_loss: 0.9670 - val_acc: 0.7019\n",
      "Epoch 20/20\n",
      "33500/33500 [==============================] - 34s 1ms/step - loss: 0.4415 - acc: 0.8453 - val_loss: 0.9588 - val_acc: 0.7088\n",
      "10000/10000 [==============================] - 3s 273us/step\n",
      "test_accuracy is: 0.7021\n"
     ]
    },
    {
     "data": {
      "image/png": "[encoded data removed]",
      "text/plain": [
       "<Figure size 432x288 with 1 Axes>"
      ]
     },
     "metadata": {
      "needs_background": "light"
     },
     "output_type": "display_data"
    },
    {
     "name": "stdout",
     "output_type": "stream",
     "text": [
      "running time is: 0:11:27.493585\n"
     ]
    }
   ],
   "source": [
    "from keras.datasets import cifar10\n",
    "from keras.utils import to_categorical\n",
    "from keras import layers\n",
    "from keras import models\n",
    "#from keras.optimizers import SGD\n",
    "import matplotlib.pyplot as plt\n",
    "from keras.layers import Dropout\n",
    "\n",
    "#import mnist data\n",
    "(train_images,train_labels),(test_images,test_labels)=cifar10.load_data()\n",
    "\n",
    "#begin to calculate run time\n",
    "import datetime\n",
    "start_time=datetime.datetime.now()\n",
    "\n",
    "#define the model\n",
    "model=models.Sequential()\n",
    "model.add(layers.Conv2D(36,(3,3),activation='relu',input_shape=(32,32,3)))\n",
    "model.add(layers.MaxPooling2D((2,2)))\n",
    "model.add(Dropout(0.2))\n",
    "model.add(layers.Conv2D(72,(3,3),activation='relu'))\n",
    "model.add(layers.MaxPooling2D((2,2)))\n",
    "#model.add(Dropout(0.2))\n",
    "model.add(layers.Conv2D(72,(3,3),activation='relu'))\n",
    "model.add(layers.Flatten())\n",
    "model.add(layers.Dense(72,activation='relu'))\n",
    "model.add(layers.Dense(10,activation='softmax'))\n",
    "\n",
    "train_images=train_images.reshape((50000,32,32,3))\n",
    "train_images=train_images.astype('float')/255\n",
    "\n",
    "test_images=test_images.reshape((10000,32,32,3))\n",
    "test_images=test_images.astype('float')/255\n",
    "\n",
    "train_labels=to_categorical(train_labels)\n",
    "test_labels=to_categorical(test_labels)\n",
    "\n",
    "#sgd=SGD(lr=0.01,decay=0.000001,momentum=0.9,nesterov=True)\n",
    "#model.compile(optimizer=SGD(),loss='categorical_crossentropy',metrics=['accuracy'])\n",
    "model.compile(optimizer='rmsprop',loss='categorical_crossentropy',metrics=['accuracy'])\n",
    "\n",
    "#train the model\n",
    "history=model.fit(train_images,train_labels,validation_split=0.33,epochs=20,batch_size=128)\n",
    "#model.fit(train_images,train_labels,epochs=10,batch_size=128)\n",
    "\n",
    "#test the test images and give score\n",
    "test_loss,test_acc=model.evaluate(test_images,test_labels)\n",
    "print('test_accuracy is:',test_acc)\n",
    "plt.plot(history.history['acc'])\n",
    "plt.plot(history.history['val_acc'])\n",
    "plt.title('model accuracy')\n",
    "plt.xlabel('epoch')\n",
    "plt.ylabel('accuracy')\n",
    "plt.legend(['train','test'],loc='upper left')\n",
    "plt.show()\n",
    "#calculate the run time\n",
    "terminal_time=datetime.datetime.now()\n",
    "running_time=terminal_time-start_time\n",
    "print(\"running time is:\",running_time)"
   ]
  },
  {
   "cell_type": "code",
   "execution_count": 19,
   "metadata": {},
   "outputs": [
    {
     "data": {
      "text/plain": [
       "<matplotlib.image.AxesImage at 0x26f72f1d208>"
      ]
     },
     "execution_count": 19,
     "metadata": {},
     "output_type": "execute_result"
    },
    {
     "data": {
      "image/png": "[encoded data removed]",
      "text/plain": [
       "<Figure size 432x288 with 1 Axes>"
      ]
     },
     "metadata": {
      "needs_background": "light"
     },
     "output_type": "display_data"
    }
   ],
   "source": [
    "import matplotlib.pyplot as plt\n",
    "plt.imshow(train_images[20001],cmap='brg')"
   ]
  },
  {
   "cell_type": "code",
   "execution_count": 18,
   "metadata": {},
   "outputs": [
    {
     "name": "stdout",
     "output_type": "stream",
     "text": [
      "[0. 0. 0. 0. 0. 1. 0. 0. 0. 0.]\n"
     ]
    }
   ],
   "source": [
    "print(train_labels[20001])"
   ]
  },
  {
   "cell_type": "code",
   "execution_count": null,
   "metadata": {},
   "outputs": [],
   "source": []
  },
  {
   "cell_type": "code",
   "execution_count": null,
   "metadata": {},
   "outputs": [],
   "source": []
  }
 ],
 "metadata": {
  "kernelspec": {
   "display_name": "Python 3",
   "language": "python",
   "name": "python3"
  },
  "language_info": {
   "codemirror_mode": {
    "name": "ipython",
    "version": 3
   },
   "file_extension": ".py",
   "mimetype": "text/x-python",
   "name": "python",
   "nbconvert_exporter": "python",
   "pygments_lexer": "ipython3",
   "version": "3.7.4"
  }
 },
 "nbformat": 4,
 "nbformat_minor": 2
}
